{
 "cells": [
  {
   "cell_type": "markdown",
   "metadata": {},
   "source": [
    "# Imports\n"
   ]
  },
  {
   "cell_type": "code",
   "execution_count": 69,
   "metadata": {},
   "outputs": [],
   "source": [
    "import pandas as pd\n",
    "\n",
    "df_train = pd.read_csv(\"./train.csv\")\n",
    "df_test = pd.read_csv(\"./test.csv\")\n",
    "df_train.columns = df_train.columns.str.replace(' ','_')\n",
    "df_test.columns = df_test.columns.str.replace(' ','_')"
   ]
  },
  {
   "cell_type": "code",
   "execution_count": 74,
   "metadata": {},
   "outputs": [
    {
     "name": "stdout",
     "output_type": "stream",
     "text": [
      "<class 'pandas.core.frame.DataFrame'>\n",
      "RangeIndex: 1200000 entries, 0 to 1199999\n",
      "Data columns (total 21 columns):\n",
      " #   Column                Non-Null Count    Dtype  \n",
      "---  ------                --------------    -----  \n",
      " 0   id                    1200000 non-null  int64  \n",
      " 1   Age                   1181295 non-null  float64\n",
      " 2   Gender                1200000 non-null  object \n",
      " 3   Annual_Income         1155051 non-null  float64\n",
      " 4   Marital_Status        1181471 non-null  object \n",
      " 5   Number_of_Dependents  1090328 non-null  float64\n",
      " 6   Education_Level       1200000 non-null  object \n",
      " 7   Occupation            841925 non-null   object \n",
      " 8   Health_Score          1125924 non-null  float64\n",
      " 9   Location              1200000 non-null  object \n",
      " 10  Policy_Type           1200000 non-null  object \n",
      " 11  Previous_Claims       835971 non-null   float64\n",
      " 12  Vehicle_Age           1199994 non-null  float64\n",
      " 13  Credit_Score          1062118 non-null  float64\n",
      " 14  Insurance_Duration    1199999 non-null  float64\n",
      " 15  Policy_Start_Date     1200000 non-null  object \n",
      " 16  Customer_Feedback     1122176 non-null  object \n",
      " 17  Smoking_Status        1200000 non-null  object \n",
      " 18  Exercise_Frequency    1200000 non-null  object \n",
      " 19  Property_Type         1200000 non-null  object \n",
      " 20  Premium_Amount        1200000 non-null  float64\n",
      "dtypes: float64(9), int64(1), object(11)\n",
      "memory usage: 192.3+ MB\n"
     ]
    },
    {
     "data": {
      "text/plain": [
       "'2019-08-17 15:21:39.080371'"
      ]
     },
     "execution_count": 74,
     "metadata": {},
     "output_type": "execute_result"
    }
   ],
   "source": [
    "df_train.head()\n",
    "df_train.info()\n",
    "\n",
    "df_train['Policy_Start_Date'].dtype\n",
    "df_train['Policy_Start_Date'].min()"
   ]
  },
  {
   "cell_type": "markdown",
   "metadata": {},
   "source": [
    "# Age"
   ]
  },
  {
   "cell_type": "code",
   "execution_count": 32,
   "metadata": {},
   "outputs": [],
   "source": [
    "agemean = df_train['Age'].mean()\n",
    "df_train.fillna({'Age':agemean}, inplace=True);"
   ]
  },
  {
   "cell_type": "markdown",
   "metadata": {},
   "source": [
    "# Gender"
   ]
  },
  {
   "cell_type": "code",
   "execution_count": null,
   "metadata": {},
   "outputs": [],
   "source": [
    "df_train.fillna({'Gender':'unknown'}, inplace=True);"
   ]
  },
  {
   "cell_type": "markdown",
   "metadata": {},
   "source": [
    "# Annual Income"
   ]
  },
  {
   "cell_type": "code",
   "execution_count": 10,
   "metadata": {},
   "outputs": [],
   "source": [
    "annualincomemean = df_train['Annual_Income'].mean()\n",
    "df_train.fillna({'Annual_Income':annualincomemean}, inplace=True);"
   ]
  },
  {
   "cell_type": "markdown",
   "metadata": {},
   "source": [
    "# Marital_Status"
   ]
  },
  {
   "cell_type": "code",
   "execution_count": 16,
   "metadata": {},
   "outputs": [],
   "source": [
    "df_train.fillna({'Marital_Status':'unknown'}, inplace = True);"
   ]
  },
  {
   "cell_type": "markdown",
   "metadata": {},
   "source": [
    "# Number of Dependants"
   ]
  },
  {
   "cell_type": "code",
   "execution_count": 20,
   "metadata": {},
   "outputs": [],
   "source": [
    "numberofdepmedian=df_train['Number_of_Dependents'].median()\n",
    "df_train.fillna({'Number_of_Dependents':numberofdepmedian}, inplace=True)   "
   ]
  },
  {
   "cell_type": "markdown",
   "metadata": {},
   "source": [
    "# Education Level"
   ]
  },
  {
   "cell_type": "code",
   "execution_count": null,
   "metadata": {},
   "outputs": [
    {
     "data": {
      "text/plain": [
       "Education_Level\n",
       "Master's       303818\n",
       "PhD            303507\n",
       "Bachelor's     303234\n",
       "High School    289441\n",
       "Name: count, dtype: int64"
      ]
     },
     "execution_count": 21,
     "metadata": {},
     "output_type": "execute_result"
    }
   ],
   "source": [
    "df_train['Education_Level'].value_counts(dropna=False)\n",
    "df_train.fillna({'Education_Level':'unknown'},inplace=True);"
   ]
  },
  {
   "cell_type": "markdown",
   "metadata": {},
   "source": [
    "# Occupation"
   ]
  },
  {
   "cell_type": "code",
   "execution_count": null,
   "metadata": {},
   "outputs": [
    {
     "data": {
      "text/plain": [
       "Occupation\n",
       "unknown          358075\n",
       "Employed         282750\n",
       "Self-Employed    282645\n",
       "Unemployed       276530\n",
       "Name: count, dtype: int64"
      ]
     },
     "execution_count": 23,
     "metadata": {},
     "output_type": "execute_result"
    }
   ],
   "source": [
    "df_train.fillna({'Occupation':'unknown'}, inplace=True)   \n"
   ]
  },
  {
   "cell_type": "markdown",
   "metadata": {},
   "source": [
    "# Health Score"
   ]
  },
  {
   "cell_type": "code",
   "execution_count": 28,
   "metadata": {},
   "outputs": [],
   "source": [
    "healthscoremean = df_train['Health_Score'].mean()\n",
    "df_train.fillna({'Health_Score':healthscoremean},inplace=True);"
   ]
  },
  {
   "cell_type": "markdown",
   "metadata": {},
   "source": [
    "# Location"
   ]
  },
  {
   "cell_type": "code",
   "execution_count": null,
   "metadata": {},
   "outputs": [
    {
     "data": {
      "text/plain": [
       "Location\n",
       "Suburban    401542\n",
       "Rural       400947\n",
       "Urban       397511\n",
       "Name: count, dtype: int64"
      ]
     },
     "execution_count": 29,
     "metadata": {},
     "output_type": "execute_result"
    }
   ],
   "source": [
    "df_train['Location'].value_counts(dropna=False)\n",
    "df_train.fillna({'Location':'unknown'},inplace=True);"
   ]
  },
  {
   "cell_type": "markdown",
   "metadata": {},
   "source": [
    "# Policy Type"
   ]
  },
  {
   "cell_type": "code",
   "execution_count": 67,
   "metadata": {},
   "outputs": [],
   "source": [
    "df_train.fillna({'Policy_Type':'unknown'},inplace=True);"
   ]
  },
  {
   "cell_type": "markdown",
   "metadata": {},
   "source": [
    "# Previous Claims"
   ]
  },
  {
   "cell_type": "code",
   "execution_count": null,
   "metadata": {},
   "outputs": [
    {
     "data": {
      "text/plain": [
       "Previous_Claims\n",
       "1.0    664840\n",
       "0.0    305433\n",
       "2.0    167661\n",
       "3.0     49011\n",
       "4.0     10668\n",
       "5.0      2018\n",
       "6.0       302\n",
       "7.0        58\n",
       "8.0         8\n",
       "9.0         1\n",
       "Name: count, dtype: int64"
      ]
     },
     "execution_count": 38,
     "metadata": {},
     "output_type": "execute_result"
    }
   ],
   "source": [
    "previousclaimmedian = df_train['Previous_Claims'].median()\n",
    "df_train.fillna({'Previous_Claims':previousclaimmedian},inplace=True)"
   ]
  },
  {
   "cell_type": "markdown",
   "metadata": {},
   "source": [
    "# Vehicle_Age"
   ]
  },
  {
   "cell_type": "code",
   "execution_count": 41,
   "metadata": {},
   "outputs": [],
   "source": [
    "vehicleagemean = df_train['Vehicle_Age'].mean()\n",
    "df_train.fillna({'Vehicle_Age':vehicleagemean}, inplace=True);"
   ]
  },
  {
   "cell_type": "markdown",
   "metadata": {},
   "source": [
    "# Credit Score"
   ]
  },
  {
   "cell_type": "code",
   "execution_count": 44,
   "metadata": {},
   "outputs": [],
   "source": [
    "creditscoremean = df_train['Credit_Score'].mean()\n",
    "df_train.fillna({'Credit_Score':creditscoremean}, inplace=True);"
   ]
  },
  {
   "cell_type": "markdown",
   "metadata": {},
   "source": [
    "# Insurance Duration"
   ]
  },
  {
   "cell_type": "code",
   "execution_count": null,
   "metadata": {},
   "outputs": [],
   "source": [
    "durationmedian = df_train['Insurance_Duration'].median()\n",
    "df_train.fillna({'Insurance_Duration':durationmedian}, inplace=True);"
   ]
  },
  {
   "cell_type": "markdown",
   "metadata": {},
   "source": [
    "# Policy Start Date"
   ]
  },
  {
   "cell_type": "code",
   "execution_count": 59,
   "metadata": {},
   "outputs": [],
   "source": [
    "df_train['Policy_Start_Date'] = pd.to_datetime(df_train['Policy_Start_Date'])\n",
    "df_train['Policy_Start_Date_Int'] = (df_train['Policy_Start_Date'] - pd.Timestamp(\"2019-08-17\")) // pd.Timedelta('1D')\n",
    "df_train.drop(columns='Policy_Start_Date',inplace=True)\n",
    "\n",
    "\n",
    "# przeksztalcam date, na liczbe dni ktore minely od pierwszego rejestru (2019-08-17)"
   ]
  },
  {
   "cell_type": "markdown",
   "metadata": {},
   "source": [
    "# Customer Feedback"
   ]
  },
  {
   "cell_type": "code",
   "execution_count": null,
   "metadata": {},
   "outputs": [
    {
     "data": {
      "text/plain": [
       "Customer_Feedback\n",
       "Average    455729\n",
       "Poor       375518\n",
       "Good       368753\n",
       "Name: count, dtype: int64"
      ]
     },
     "execution_count": 51,
     "metadata": {},
     "output_type": "execute_result"
    }
   ],
   "source": [
    "df_train.fillna({'Customer_Feedback':'Average'}, inplace=True)"
   ]
  },
  {
   "cell_type": "markdown",
   "metadata": {},
   "source": [
    "# Smoking Status"
   ]
  },
  {
   "cell_type": "code",
   "execution_count": null,
   "metadata": {},
   "outputs": [],
   "source": [
    "df_train.fillna({'Smoking_Status':'unknown'}, inplace=True)\n"
   ]
  },
  {
   "cell_type": "markdown",
   "metadata": {},
   "source": [
    "# Exercise Frequency"
   ]
  },
  {
   "cell_type": "code",
   "execution_count": null,
   "metadata": {},
   "outputs": [
    {
     "data": {
      "text/plain": [
       "Exercise_Frequency\n",
       "Weekly     306179\n",
       "Monthly    299830\n",
       "Rarely     299420\n",
       "Daily      294571\n",
       "Name: count, dtype: int64"
      ]
     },
     "execution_count": 61,
     "metadata": {},
     "output_type": "execute_result"
    }
   ],
   "source": [
    "df_train.fillna({'Exercise_Frequency':'unknown'}, inplace=True)\n"
   ]
  },
  {
   "cell_type": "markdown",
   "metadata": {},
   "source": [
    "# Property Type"
   ]
  },
  {
   "cell_type": "code",
   "execution_count": null,
   "metadata": {},
   "outputs": [],
   "source": [
    "df_train.fillna({'Property_Type':'unknown'}, inplace=True)\n"
   ]
  },
  {
   "cell_type": "code",
   "execution_count": 60,
   "metadata": {},
   "outputs": [
    {
     "name": "stdout",
     "output_type": "stream",
     "text": [
      "<class 'pandas.core.frame.DataFrame'>\n",
      "RangeIndex: 1200000 entries, 0 to 1199999\n",
      "Data columns (total 21 columns):\n",
      " #   Column                 Non-Null Count    Dtype  \n",
      "---  ------                 --------------    -----  \n",
      " 0   id                     1200000 non-null  int64  \n",
      " 1   Age                    1200000 non-null  float64\n",
      " 2   Gender                 1200000 non-null  object \n",
      " 3   Annual_Income          1200000 non-null  float64\n",
      " 4   Marital_Status         1200000 non-null  object \n",
      " 5   Number_of_Dependents   1200000 non-null  float64\n",
      " 6   Education_Level        1200000 non-null  object \n",
      " 7   Occupation             1200000 non-null  object \n",
      " 8   Health_Score           1200000 non-null  float64\n",
      " 9   Location               1200000 non-null  object \n",
      " 10  Policy_Type            1200000 non-null  object \n",
      " 11  Previous_Claims        1200000 non-null  float64\n",
      " 12  Vehicle_Age            1200000 non-null  float64\n",
      " 13  Credit_Score           1200000 non-null  float64\n",
      " 14  Insurance_Duration     1200000 non-null  float64\n",
      " 15  Customer_Feedback      1200000 non-null  object \n",
      " 16  Smoking_Status         1200000 non-null  object \n",
      " 17  Exercise_Frequency     1200000 non-null  object \n",
      " 18  Property_Type          1200000 non-null  object \n",
      " 19  Premium_Amount         1200000 non-null  float64\n",
      " 20  Policy_Start_Date_Int  1200000 non-null  int64  \n",
      "dtypes: float64(9), int64(2), object(10)\n",
      "memory usage: 192.3+ MB\n"
     ]
    }
   ],
   "source": [
    "df_train.info()"
   ]
  },
  {
   "cell_type": "markdown",
   "metadata": {},
   "source": [
    "# Columns"
   ]
  },
  {
   "cell_type": "code",
   "execution_count": null,
   "metadata": {},
   "outputs": [],
   "source": [
    "unknown_categories = ['Property_Type','Exercise_Frequency', 'Smoking_Status', 'Policy_Type', 'Location','Occupation', 'Education_Level', 'Marital_Status', 'Gender','Customer_Feedback'] # fill with 'unknown'\n",
    "mean_columns = ['Credit_Score', 'Vehicle_Age', 'Health_Score', 'Annual_Income','Age'] # fill with mean\n",
    "median_columns = ['Insurance_Duration', 'Previous_Claims', 'Insurance_Duration'] # fill with median\n",
    "policy_date=['Policy_Start_Date_Int'] # policy date - fill with integer"
   ]
  }
 ],
 "metadata": {
  "kernelspec": {
   "display_name": "base",
   "language": "python",
   "name": "python3"
  },
  "language_info": {
   "codemirror_mode": {
    "name": "ipython",
    "version": 3
   },
   "file_extension": ".py",
   "mimetype": "text/x-python",
   "name": "python",
   "nbconvert_exporter": "python",
   "pygments_lexer": "ipython3",
   "version": "3.12.4"
  }
 },
 "nbformat": 4,
 "nbformat_minor": 2
}
