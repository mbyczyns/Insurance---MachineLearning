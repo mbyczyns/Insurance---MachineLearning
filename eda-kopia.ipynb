{
 "cells": [
  {
   "cell_type": "markdown",
   "metadata": {},
   "source": [
    "# Import Data"
   ]
  },
  {
   "cell_type": "code",
   "execution_count": 62,
   "metadata": {},
   "outputs": [],
   "source": [
    "import pandas as pd\n",
    "import matplotlib.pyplot as plt\n",
    "import numpy as np"
   ]
  },
  {
   "cell_type": "code",
   "execution_count": null,
   "metadata": {},
   "outputs": [
    {
     "name": "stdout",
     "output_type": "stream",
     "text": [
      "<class 'pandas.core.frame.DataFrame'>\n",
      "RangeIndex: 1200000 entries, 0 to 1199999\n",
      "Data columns (total 21 columns):\n",
      " #   Column                Non-Null Count    Dtype  \n",
      "---  ------                --------------    -----  \n",
      " 0   id                    1200000 non-null  int64  \n",
      " 1   Age                   1181295 non-null  float64\n",
      " 2   Gender                1200000 non-null  object \n",
      " 3   Annual_Income         1155051 non-null  float64\n",
      " 4   Marital_Status        1181471 non-null  object \n",
      " 5   Number_of_Dependents  1090328 non-null  float64\n",
      " 6   Education_Level       1200000 non-null  object \n",
      " 7   Occupation            841925 non-null   object \n",
      " 8   Health_Score          1125924 non-null  float64\n",
      " 9   Location              1200000 non-null  object \n",
      " 10  Policy_Type           1200000 non-null  object \n",
      " 11  Previous_Claims       835971 non-null   float64\n",
      " 12  Vehicle_Age           1199994 non-null  float64\n",
      " 13  Credit_Score          1062118 non-null  float64\n",
      " 14  Insurance_Duration    1199999 non-null  float64\n",
      " 15  Policy_Start_Date     1200000 non-null  object \n",
      " 16  Customer_Feedback     1122176 non-null  object \n",
      " 17  Smoking_Status        1200000 non-null  object \n",
      " 18  Exercise_Frequency    1200000 non-null  object \n",
      " 19  Property_Type         1200000 non-null  object \n",
      " 20  Premium_Amount        1200000 non-null  float64\n",
      "dtypes: float64(9), int64(1), object(11)\n",
      "memory usage: 192.3+ MB\n"
     ]
    }
   ],
   "source": [
    "df_train = pd.read_csv(\"./train.csv\")\n",
    "df_test = pd.read_csv(\"./test.csv\")\n",
    "df_train.columns = df_train.columns.str.replace(' ','_')\n",
    "df_test.columns = df_test.columns.str.replace(' ','_')\n",
    "\n",
    "df_train.info()"
   ]
  },
  {
   "cell_type": "markdown",
   "metadata": {},
   "source": [
    "# Age - no corelation\n"
   ]
  },
  {
   "cell_type": "code",
   "execution_count": null,
   "metadata": {},
   "outputs": [],
   "source": [
    "ages = df_train[['Age','Premium_Amount']].groupby([\"Age\"]).mean()\n",
    "\n",
    "plt.figure(figsize=(7, 4))\n",
    "plt.plot(ages.index, ages['Premium_Amount'], color='steelblue')\n",
    "plt.xticks(range(int(ages.index.min()), int(ages.index.max()) + 1, 5))\n",
    "plt.xlabel('Age')\n",
    "plt.ylabel('Premium Amount')\n",
    "plt.title('Average Premium Amount by Age')\n",
    "plt.grid(True)\n",
    "plt.show()"
   ]
  },
  {
   "cell_type": "markdown",
   "metadata": {},
   "source": [
    "# Gender - no corelation\n"
   ]
  },
  {
   "cell_type": "code",
   "execution_count": null,
   "metadata": {},
   "outputs": [],
   "source": [
    "genders = df_train[[\"Gender\", \"Premium_Amount\"]].groupby(\"Gender\").mean()\n",
    "plt.figure(figsize=(7,4))\n",
    "bars = plt.bar(genders.index, genders['Premium_Amount'],color='steelblue')\n",
    "plt.title('Average premium amount by gender')\n",
    "\n",
    "for bar in bars:\n",
    "    yval = bar.get_height()\n",
    "    plt.text(bar.get_x() + bar.get_width()/2, yval, round(yval, 2), ha='center', va='bottom')\n"
   ]
  },
  {
   "cell_type": "markdown",
   "metadata": {},
   "source": [
    "# Annual income"
   ]
  },
  {
   "cell_type": "code",
   "execution_count": 132,
   "metadata": {},
   "outputs": [
    {
     "name": "stdout",
     "output_type": "stream",
     "text": [
      "1.0 149997.0\n"
     ]
    }
   ],
   "source": [
    "min_income = df_train['Annual_Income'].min()\n",
    "max_income = df_train['Annual_Income'].max()\n",
    "print(min_income, max_income)"
   ]
  },
  {
   "cell_type": "code",
   "execution_count": null,
   "metadata": {},
   "outputs": [],
   "source": []
  }
 ],
 "metadata": {
  "kernelspec": {
   "display_name": "base",
   "language": "python",
   "name": "python3"
  },
  "language_info": {
   "codemirror_mode": {
    "name": "ipython",
    "version": 3
   },
   "file_extension": ".py",
   "mimetype": "text/x-python",
   "name": "python",
   "nbconvert_exporter": "python",
   "pygments_lexer": "ipython3",
   "version": "3.12.4"
  }
 },
 "nbformat": 4,
 "nbformat_minor": 2
}
