{
 "cells": [
  {
   "cell_type": "markdown",
   "metadata": {},
   "source": [
    "# Imports"
   ]
  },
  {
   "cell_type": "code",
   "execution_count": null,
   "metadata": {},
   "outputs": [],
   "source": [
    "from sklearn.preprocessing import OneHotEncoder, OrdinalEncoder, StandardScaler\n",
    "from sklearn.impute import SimpleImputer\n",
    "from sklearn.pipeline import Pipeline\n",
    "from sklearn.compose import ColumnTransformer\n",
    "import pandas as pd\n",
    "\n",
    "df_train = pd.read_csv(\"./train.csv\")\n",
    "df_test = pd.read_csv(\"./test.csv\")\n",
    "df_train.columns = df_train.columns.str.replace(' ','_')\n",
    "df_test.columns = df_test.columns.str.replace(' ','_')"
   ]
  },
  {
   "cell_type": "markdown",
   "metadata": {},
   "source": [
    "# Date format"
   ]
  },
  {
   "cell_type": "code",
   "execution_count": 10,
   "metadata": {},
   "outputs": [],
   "source": [
    "df_train['Policy_Start_Date'] = pd.to_datetime(df_train['Policy_Start_Date'])\n",
    "\n",
    "df_train['Policy_Start_Date_Int'] = (df_train['Policy_Start_Date']-pd.Timestamp(\"2019-08-17\")) // pd.Timedelta('1D')\n",
    "\n",
    "# przeksztalcam date, na liczbe dni ktore minely od pierwszego rejestru (2019-08-17)"
   ]
  },
  {
   "cell_type": "markdown",
   "metadata": {},
   "source": [
    "# Columns"
   ]
  },
  {
   "cell_type": "code",
   "execution_count": 3,
   "metadata": {},
   "outputs": [],
   "source": [
    "onehot_cols =['Gender','Education_Level', 'Smoking_Status', 'Property_Type']\n",
    "onehot_null_cols = ['Marital_Status', 'Education_Level', 'Occupation', 'Location','Policy_Type' ]\n",
    "num_null_cols = ['Age','Annual_Income', 'Number_of_Dependents', 'Health_Score', 'Vehicle_Age','Credit_Score' ]\n",
    "ordinal_null_cols = ['Prevoius_Claims','Insurance_Duration', 'Customer_Feedback']\n",
    "ordinal_cols = ['Policy_Start_Date_Int', 'Exercise_Frequency']"
   ]
  },
  {
   "cell_type": "code",
   "execution_count": 14,
   "metadata": {},
   "outputs": [],
   "source": [
    "id = df_train['id']\n",
    "target = df_train['Premium_Amount'];"
   ]
  },
  {
   "cell_type": "markdown",
   "metadata": {},
   "source": [
    "# Pipelines"
   ]
  },
  {
   "cell_type": "code",
   "execution_count": null,
   "metadata": {},
   "outputs": [],
   "source": [
    "onehot_pipe = Pipeline([\n",
    "    ('imputer', SimpleImputer(strategy='constant', fill_value='unknown')),\n",
    "    ('ordinal', OneHotEncoder(handle_unknown='ignore' ))\n",
    "])\n",
    "ordinal_pipe = Pipeline([\n",
    "    ('imputer', SimpleImputer(strategy='constant', fill_value='unknown')),\n",
    "    ('ordinal', OrdinalEncoder(handle_unknown='use_encoded_value', unknown_value=-1))\n",
    "\n",
    "])\n",
    "numerical_pipe = Pipeline([\n",
    "    ('imputer', SimpleImputer(strategy='constant', fill_value=0)),\n",
    "    ('scaler', StandardScaler())\n",
    "])\n",
    "\n",
    "preprocessor = ColumnTransformer([\n",
    "    ('numnull', numerical_pipe, num_null_cols),\n",
    "    ('onehot_null', onehot_pipe, onehot_null_cols),\n",
    "    ('onehot', onehot_pipe, onehot_cols),\n",
    "    ('ordinalnull', ordinal_pipe, ordinal_null_cols),\n",
    "    ('ordinal', ordinal_pipe, ordinal_cols)\n",
    "])"
   ]
  }
 ],
 "metadata": {
  "kernelspec": {
   "display_name": "base",
   "language": "python",
   "name": "python3"
  },
  "language_info": {
   "codemirror_mode": {
    "name": "ipython",
    "version": 3
   },
   "file_extension": ".py",
   "mimetype": "text/x-python",
   "name": "python",
   "nbconvert_exporter": "python",
   "pygments_lexer": "ipython3",
   "version": "3.12.4"
  }
 },
 "nbformat": 4,
 "nbformat_minor": 2
}
