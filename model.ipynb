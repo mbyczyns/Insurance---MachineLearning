{
 "cells": [
  {
   "cell_type": "markdown",
   "metadata": {},
   "source": [
    "# Imports"
   ]
  },
  {
   "cell_type": "code",
   "execution_count": 5,
   "metadata": {},
   "outputs": [],
   "source": [
    "from sklearn.preprocessing import OneHotEncoder, OrdinalEncoder, StandardScaler\n",
    "from sklearn.impute import SimpleImputer\n",
    "from sklearn.pipeline import Pipeline\n",
    "from sklearn.compose import ColumnTransformer\n",
    "from sklearn.model_selection import train_test_split\n",
    "import pandas as pd\n",
    "\n",
    "df_train = pd.read_csv(\"./train.csv\")\n",
    "df_test = pd.read_csv(\"./test.csv\")\n",
    "df_train.columns = df_train.columns.str.replace(' ','_')\n",
    "df_test.columns = df_test.columns.str.replace(' ','_')"
   ]
  },
  {
   "cell_type": "markdown",
   "metadata": {},
   "source": [
    "# Columns"
   ]
  },
  {
   "cell_type": "code",
   "execution_count": 11,
   "metadata": {},
   "outputs": [],
   "source": [
    "unknown_categories = ['Property_Type','Exercise_Frequency', 'Smoking_Status', 'Policy_Type', 'Location','Occupation', 'Education_Level', 'Marital_Status', 'Gender','Customer_Feedback'] # fill with 'unknown'\n",
    "mean_columns = ['Credit_Score', 'Vehicle_Age', 'Health_Score', 'Annual_Income','Age'] # fill with mean\n",
    "median_columns = ['Insurance_Duration', 'Previous_Claims', 'Insurance_Duration'] # fill with median\n",
    "policy_date=['Policy_Start_Date_Int'] # policy date - fill with integer\n",
    "id_col = 'id'\n",
    "target_col = 'Premium_Amount'"
   ]
  },
  {
   "cell_type": "markdown",
   "metadata": {},
   "source": [
    "# Date Managing"
   ]
  },
  {
   "cell_type": "code",
   "execution_count": 8,
   "metadata": {},
   "outputs": [],
   "source": [
    "import pandas as pd\n",
    "from sklearn.base import BaseEstimator, TransformerMixin\n",
    "from sklearn.pipeline import Pipeline\n",
    "\n",
    "# Tworzenie niestandardowego transformatora\n",
    "class DateToDaysTransformer(BaseEstimator, TransformerMixin):\n",
    "    def __init__(self, date_column, reference_date=\"2019-08-17\", drop_original=True):\n",
    "        self.date_column = date_column  # Nazwa kolumny z datami\n",
    "        self.reference_date = pd.Timestamp(reference_date)  # Data referencyjna\n",
    "        self.drop_original = drop_original  # Czy usuwać oryginalną kolumnę z datami\n",
    "\n",
    "    def fit(self, X, y=None):\n",
    "        return self  # Transformator nie wymaga dopasowania do danych\n",
    "\n",
    "    def transform(self, X):\n",
    "        # Upewniamy się, że dane są DataFrame'em\n",
    "        X = X.copy()\n",
    "        \n",
    "        # Konwersja wskazanej kolumny na datetime\n",
    "        X[self.date_column] = pd.to_datetime(X[self.date_column])\n",
    "        \n",
    "        # Obliczanie różnicy w dniach od daty referencyjnej\n",
    "        X[self.date_column + \"_days\"] = (X[self.date_column] - self.reference_date) // pd.Timedelta('1D')\n",
    "        \n",
    "        # Opcjonalne usuwanie oryginalnej kolumny\n",
    "        if self.drop_original:\n",
    "            X.drop(columns=[self.date_column], inplace=True)\n",
    "        \n",
    "        return X\n"
   ]
  },
  {
   "cell_type": "markdown",
   "metadata": {},
   "source": [
    "# Pipelines"
   ]
  },
  {
   "cell_type": "code",
   "execution_count": 9,
   "metadata": {},
   "outputs": [],
   "source": [
    "unknown_pipeline = Pipeline([\n",
    "    ('imputer', SimpleImputer(strategy='constant', fill_value='unknown')),\n",
    "    ('onehot', OneHotEncoder(handle_unknown='ignore'))\n",
    "])\n",
    "\n",
    "mean_pipeline = Pipeline([\n",
    "    ('imputer',SimpleImputer(strategy='mean')),\n",
    "    ('scaler',StandardScaler())\n",
    "])\n",
    "\n",
    "median_pipeline = Pipeline([\n",
    "    ('imputer', SimpleImputer(strategy='median')),\n",
    "    ('scaler',StandardScaler())\n",
    "])\n",
    "\n",
    "policy_date_pipeline = Pipeline([\n",
    "    ('impute_dates', SimpleImputer(strategy='constant', fill_value=pd.Timestamp(\"2022-01-01\"))),  \n",
    "    ('date_to_days', DateToDaysTransformer(date_column=\"Policy_Start_Date\", reference_date=\"2019-08-17\")),\n",
    "    ('scaler', StandardScaler())\n",
    "])\n",
    "\n",
    "preprocessor = ColumnTransformer([\n",
    "    ('unknown', unknown_pipeline, unknown_categories),\n",
    "    ('mean', mean_pipeline, mean_columns),\n",
    "    ('median', median_pipeline, median_columns),\n",
    "    ('date', policy_date_pipeline, policy_date)\n",
    "])"
   ]
  },
  {
   "cell_type": "markdown",
   "metadata": {},
   "source": [
    "# Split Data"
   ]
  },
  {
   "cell_type": "code",
   "execution_count": 12,
   "metadata": {},
   "outputs": [],
   "source": [
    "X = df_train.drop([id_col, target_col], axis=1)\n",
    "y = df_train[target_col]\n",
    "X_train, X_val, y_train, y_val = train_test_split(X, y, test_size=0.2, random_state=42)"
   ]
  },
  {
   "cell_type": "markdown",
   "metadata": {},
   "source": [
    "# Hyperparameters Tuning"
   ]
  },
  {
   "cell_type": "code",
   "execution_count": null,
   "metadata": {},
   "outputs": [],
   "source": [
    "import optuna\n",
    "from xgboost import XGBRegressor\n",
    "from lightgbm import LGBMRegressor\n",
    "from catboost import CatBoostRegressor"
   ]
  }
 ],
 "metadata": {
  "kernelspec": {
   "display_name": "base",
   "language": "python",
   "name": "python3"
  },
  "language_info": {
   "codemirror_mode": {
    "name": "ipython",
    "version": 3
   },
   "file_extension": ".py",
   "mimetype": "text/x-python",
   "name": "python",
   "nbconvert_exporter": "python",
   "pygments_lexer": "ipython3",
   "version": "3.12.4"
  }
 },
 "nbformat": 4,
 "nbformat_minor": 2
}
