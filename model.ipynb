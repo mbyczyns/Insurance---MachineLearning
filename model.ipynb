{
 "cells": [
  {
   "cell_type": "markdown",
   "metadata": {},
   "source": [
    "# Imports"
   ]
  },
  {
   "cell_type": "code",
   "execution_count": null,
   "metadata": {},
   "outputs": [],
   "source": [
    "from sklearn.preprocessing import LabelEncoder, OneHotEncoder, OrdinalEncoder\n",
    "from sklearn.impute import SimpleImputer\n",
    "import pandas as pd\n",
    "\n",
    "df_train = pd.read_csv(\"./train.csv\")\n",
    "df_test = pd.read_csv(\"./test.csv\")"
   ]
  },
  {
   "cell_type": "markdown",
   "metadata": {},
   "source": [
    "# Date format"
   ]
  },
  {
   "cell_type": "code",
   "execution_count": null,
   "metadata": {},
   "outputs": [],
   "source": [
    "df_train['Policy_Start_Date'] = pd.to_datetime(df_train['Policy_Start_Date'])\n",
    "df_train['Policy_Start_Date_Int'] = (df_train['Policy_Start_Date']-pd.Timestamp(\"2019-08-17\")) // pd.Timedelta('1D')\n",
    "\n",
    "# przeksztalcam date, na liczbe dni ktore minely od pierwszego rejestru (2019-08-17)"
   ]
  },
  {
   "cell_type": "markdown",
   "metadata": {},
   "source": [
    "# Columns"
   ]
  },
  {
   "cell_type": "code",
   "execution_count": 3,
   "metadata": {},
   "outputs": [],
   "source": [
    "onehot_cols =['Gender','Education_Level', 'Smoking_Status', 'Property_Type']\n",
    "onehot_null_cols = ['Marital_Status', 'Education_Level', 'Occupation', 'Location','Policy_Type' ]\n",
    "num_null_cols = ['Age','Annual_Income', 'Number_of_Dependents', 'Health_Score', 'Vehicle_Age','Credit_Score' ]\n",
    "ordinal_null_cols = ['Prevoius_Claims','Insurance_Duration', 'Customer_Feedback']\n",
    "ordinal_cols = ['Policy_Start_Date_Int', 'Exercise_Frequency']"
   ]
  },
  {
   "cell_type": "code",
   "execution_count": null,
   "metadata": {},
   "outputs": [],
   "source": []
  }
 ],
 "metadata": {
  "kernelspec": {
   "display_name": "base",
   "language": "python",
   "name": "python3"
  },
  "language_info": {
   "codemirror_mode": {
    "name": "ipython",
    "version": 3
   },
   "file_extension": ".py",
   "mimetype": "text/x-python",
   "name": "python",
   "nbconvert_exporter": "python",
   "pygments_lexer": "ipython3",
   "version": "3.12.4"
  }
 },
 "nbformat": 4,
 "nbformat_minor": 2
}
